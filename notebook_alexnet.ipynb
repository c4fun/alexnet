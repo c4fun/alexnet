{
 "cells": [
  {
   "cell_type": "markdown",
   "source": [
    "# Create AlexNet"
   ],
   "metadata": {}
  },
  {
   "cell_type": "code",
   "execution_count": null,
   "source": [
    "import torch.nn as nn\n",
    "import torch.nn.functional as f\n",
    "\n",
    "class AlexNet(nn.Module):\n",
    "    def __init__(self):\n",
    "      super().__init__()\n",
    "      #  instantiating network classes\n",
    "      self.conv1 = nn.Conv2d(3, 96, (11, 11), stride=4)\n",
    "      self.pool1 = nn.MaxPool2d((3, 3), stride=2)\n",
    "      self.conv2 = nn.Conv2d(96, 256, (5, 5), padding=2)\n",
    "      self.pool2 = nn.MaxPool2d((3, 3), stride=2)\n",
    "      self.conv3 = nn.Conv2d(256, 384, (3, 3), padding=1)\n",
    "      self.conv4 = nn.Conv2d(384, 384, (3, 3), padding=1)\n",
    "      self.conv5 = nn.Conv2d(384, 256, (3, 3), padding=1)\n",
    "      self.pool5 = nn.MaxPool2d((3, 3), stride=2)\n",
    "      self.dense1 = nn.Linear(9216, 4096)\n",
    "      self.dense2 = nn.Linear(4096, 4096)\n",
    "      self.dense3 = nn.Linear(4096, 1000)\n",
    "      self.dropout = nn.Dropout(p=0.5)\n",
    "\n",
    "    def forward(self, x):\n",
    "      #-------------------\n",
    "      #  INPUT IMAGE(S)\n",
    "      #-------------------\n",
    "      input = x.view(-1, 3, 227, 227)  # -> (3, 227, 227)\n",
    "\n",
    "      #-------------------\n",
    "      #  INPUT LAYER\n",
    "      #-------------------\n",
    "      #  convolution -> activation -> pooling\n",
    "      layer_1 = self.conv1(x)  # -> (96, 55, 55)\n",
    "      output_1 = F.relu(layer_1)\n",
    "      output_1 = self.pool1(output_1)  # -> (96, 27, 27)\n",
    "\n",
    "      #-------------------\n",
    "      #  HIDDEN LAYERS\n",
    "      #-------------------\n",
    "      #  convolution -> activation -> pooling\n",
    "      layer_2 = self.conv2(output_1)  # -> (256, 27, 27)\n",
    "      output_2 = F.relu(layer_2)\n",
    "      output_2 = self.pool2(output_2)  # -> (256, 13, 13)\n",
    "\n",
    "      #  convolution -> activation\n",
    "      layer_3 = self.conv3(output_2)  # -> (384, 13, 13)\n",
    "      output_3 = F.relu(layer_3)\n",
    "\n",
    "      #  convolution -> activation\n",
    "      layer_4 = self.conv4(output_3)  # -> (384, 13, 13)\n",
    "      output_4 = F.relu(layer_4)\n",
    "\n",
    "      #  convolution -> activation -> pooling\n",
    "      layer_5 = self.conv5(output_4)  # -> (256, 13, 13)\n",
    "      output_5 = F.relu(layer_5)\n",
    "      output_5 = self.pool5(output_5)  # -> (256, 6, 6)\n",
    "\n",
    "      #  flattening feature map\n",
    "      flattened = output_5.view(-1, 9216)  # (256*6*6 = 9216)\n",
    "\n",
    "      #  full connection -> activation -> dropout\n",
    "      layer_6 = self.dense1(flattened)  # -> (1, 4096)\n",
    "      output_6 = F.relu(layer_6)\n",
    "      output_6 = self.dropout(output_6)\n",
    "\n",
    "      #  full connection -> activation -> dropout\n",
    "      layer_7 = self.dense2(layer_6)  # -> (1, 4096)\n",
    "      output_7 = F.relu(layer_7)\n",
    "      output_7 = self.dropout(output_7)\n",
    "\n",
    "      #--------------------\n",
    "      # OUTPUT LAYER\n",
    "      #--------------------\n",
    "      layer_8 = self.dense3(layer_7)  # -> (1, 1000)\n",
    "      output_8 = torch.sigmoid(layer_8)\n",
    "      return output_8\n"
   ],
   "outputs": [],
   "metadata": {}
  },
  {
   "cell_type": "markdown",
   "source": [
    "# Count Params"
   ],
   "metadata": {}
  },
  {
   "cell_type": "code",
   "execution_count": null,
   "source": [
    "def number_of_parameters(network):\n",
    "    \"\"\"\n",
    "    This model derives the number of parameters\n",
    "    in a PyTorch neural network architecture\n",
    "    \"\"\"\n",
    "    params = []\n",
    "    #  deriving parameters in the network\n",
    "    parameters = list(network.parameters())\n",
    "\n",
    "    for parameter in parameters:\n",
    "      #  deriving total parameters per layer\n",
    "      total = parameter.flatten().shape[0]\n",
    "      params.append(total)\n",
    "\n",
    "    return sum(params)\n"
   ],
   "outputs": [],
   "metadata": {}
  },
  {
   "cell_type": "code",
   "execution_count": null,
   "source": [
    "#  passing the AlexNet class to the function\n",
    "number_of_parameters(AlexNet())\n"
   ],
   "outputs": [],
   "metadata": {}
  }
 ],
 "metadata": {
  "orig_nbformat": 4,
  "language_info": {
   "name": "python"
  }
 },
 "nbformat": 4,
 "nbformat_minor": 2
}